{
 "cells": [
  {
   "cell_type": "code",
   "execution_count": null,
   "metadata": {},
   "outputs": [],
   "source": [
    "#Data Analysis with Python\n",
    "\n",
    "#Welcome!\n",
    "#In this section, we will explore several methods to see if certain characteristics or features can be used to predict car price. \n",
    "\n",
    "#What are the main characteristics which have the most impact on the car price?\n",
    "\n",
    "#Import Data\n",
    "\n",
    "\n",
    "import pandas as pd\n",
    "import numpy as np"
   ]
  },
  {
   "cell_type": "code",
   "execution_count": null,
   "metadata": {},
   "outputs": [],
   "source": [
    "#Load data and store in dataframe \"df\":\n",
    "\n",
    "path='https://s3-api.us-geo.objectstorage.softlayer.net/cf-courses-data/CognitiveClass/DA0101EN/automobileEDA.csv'\n",
    "df = pd.read_csv(path)\n",
    "df.head()"
   ]
  },
  {
   "cell_type": "code",
   "execution_count": null,
   "metadata": {},
   "outputs": [],
   "source": [
    "#Analyzing Individual Feature Patterns using Visualization\n",
    "\n",
    "#To install seaborn we use the pip which is the python package manager.\n",
    "\n",
    "%%capture\n",
    "! pip install seaborn"
   ]
  },
  {
   "cell_type": "code",
   "execution_count": null,
   "metadata": {},
   "outputs": [],
   "source": [
    "# Import visualization packages \"Matplotlib\" and \"Seaborn\", \n",
    "#don't forget about \"matplotlib inline\" to plot in a Jupyter notebook.\n",
    "\n",
    "import matplotlib.pyplot as plt\n",
    "import seaborn as sns\n",
    "%matplotlib inline "
   ]
  },
  {
   "cell_type": "code",
   "execution_count": null,
   "metadata": {},
   "outputs": [],
   "source": [
    "#How to choose the right visualization method?\n",
    "#When visualizing individual variables, it is important to first understand what type of variable you are dealing with. \n",
    "#This will help us find the right visualization method for that variable.\n",
    "\n",
    "print(df.dtypes)"
   ]
  },
  {
   "cell_type": "code",
   "execution_count": null,
   "metadata": {},
   "outputs": [],
   "source": [
    "#Question  #1:\n",
    "\n",
    "#What is the data type of the column \"peak-rpm\"?\n",
    "\n",
    "float64"
   ]
  },
  {
   "cell_type": "code",
   "execution_count": null,
   "metadata": {},
   "outputs": [],
   "source": [
    "#for example, we can calculate the correlation between variables  of type \"int64\" or \"float64\" using the method \"corr\":\n",
    "\n",
    "df.corr()"
   ]
  },
  {
   "cell_type": "code",
   "execution_count": null,
   "metadata": {},
   "outputs": [],
   "source": [
    "#The diagonal elements are always one;\n",
    "#we will study correlation more precisely Pearson correlation in-depth at the end of the notebook.\n",
    "\n"
   ]
  },
  {
   "cell_type": "code",
   "execution_count": null,
   "metadata": {},
   "outputs": [],
   "source": [
    "#Question  #2:\n",
    "\n",
    "#Find the correlation between the following columns: bore, stroke,compression-ratio , and horsepower.\n",
    "#Hint: if you would like to select those columns  use the following syntax: df[['bore','stroke' ,'compression-ratio','horsepower']]\n",
    "\n",
    "# Write your code below and press Shift+Enter to execute \n",
    "df_test = df[['bore', 'stroke', 'compression-ratio', 'horsepower']]\n",
    "df_test.corr()"
   ]
  },
  {
   "cell_type": "code",
   "execution_count": null,
   "metadata": {},
   "outputs": [],
   "source": [
    "#Continuous numerical variables:\n",
    "\n",
    "#Continuous numerical variables are variables that may contain any value within some range.\n",
    "#Continuous numerical variables can have the type \"int64\" or \"float64\". \n",
    "#A great way to visualize these variables is by using scatterplots with fitted lines.\n",
    "\n",
    "#In order to start understanding the (linear) relationship between an individual variable and the price. \n",
    "#We can do this by using \"regplot\", which plots the scatterplot plus the fitted regression line for the data.\n",
    "\n",
    "#Positive Linear Relationship\n",
    "\n",
    "# Let's see several examples of different linear relationships:\n",
    "\n",
    "# Engine size as potential predictor variable of price\n",
    "sns.regplot(x=\"engine-size\", y=\"price\", data=df)\n",
    "plt.ylim(0,)"
   ]
  },
  {
   "cell_type": "code",
   "execution_count": null,
   "metadata": {},
   "outputs": [],
   "source": [
    "#As the engine-size goes up, the price goes up: this indicates a positive direct correlation between these two variables. \n",
    "#Engine size seems like a pretty good predictor of price since the regression line is almost a perfect diagonal line.\n",
    "\n",
    "# We can examine the correlation between 'engine-size' and 'price' and see it's approximately  0.87\n",
    "\n",
    "df[[\"engine-size\", \"price\"]].corr()"
   ]
  },
  {
   "cell_type": "code",
   "execution_count": null,
   "metadata": {},
   "outputs": [],
   "source": [
    "#Highway mpg is a potential predictor variable of price \n",
    "\n",
    "sns.regplot(x=\"highway-mpg\", y=\"price\", data=df)"
   ]
  },
  {
   "cell_type": "code",
   "execution_count": null,
   "metadata": {},
   "outputs": [],
   "source": [
    "#As the highway-mpg goes up, the price goes down: this indicates an inverse/negative relationship between these two variables. \n",
    "#Highway mpg could potentially be a predictor of price.\n",
    "\n",
    "#We can examine the correlation between 'highway-mpg' and 'price' and see it's approximately  -0.704.\n",
    "\n",
    "df[['highway-mpg', 'price']].corr()"
   ]
  },
  {
   "cell_type": "code",
   "execution_count": null,
   "metadata": {},
   "outputs": [],
   "source": [
    "#Weak Linear Relationship\n",
    "\n",
    "#Let's see if \"Peak-rpm\" as a predictor variable of \"price\".\n",
    "\n",
    "sns.regplot(x=\"peak-rpm\", y=\"price\", data=df)"
   ]
  },
  {
   "cell_type": "code",
   "execution_count": null,
   "metadata": {},
   "outputs": [],
   "source": [
    "#Peak rpm does not seem like a good predictor of the price at all since the regression line is close to horizontal.\n",
    "#Also, the data points are very scattered and far from the fitted line, showing lots of variability. \n",
    "#Therefore it's it is not a reliable variable.\n",
    "\n",
    "#We can examine the correlation between 'peak-rpm' and 'price' and see it's approximately -0.101616 \n",
    "\n",
    "df[['peak-rpm','price']].corr()"
   ]
  },
  {
   "cell_type": "code",
   "execution_count": null,
   "metadata": {},
   "outputs": [],
   "source": [
    "# Question  3 a):\n",
    "\n",
    "#Find the correlation  between x=\"stroke\", y=\"price\".\n",
    "#Hint: if you would like to select those columns  use the following syntax: df[[\"stroke\",\"price\"]]\n",
    "\n",
    "# Write your code below and press Shift+Enter to execute\n",
    "df[['stroke', 'price']].corr()"
   ]
  },
  {
   "cell_type": "code",
   "execution_count": null,
   "metadata": {},
   "outputs": [],
   "source": [
    "#Question  3 b):\n",
    "\n",
    "#Given the correlation results between \"price\" and \"stroke\" do you expect a linear relationship?\n",
    "#Verify your results using the function \"regplot()\".\n",
    "\n",
    "# Write your code below and press Shift+Enter to execute \n",
    "sns.regplot(x = 'stroke', y = 'price', data = df)"
   ]
  },
  {
   "cell_type": "code",
   "execution_count": null,
   "metadata": {},
   "outputs": [],
   "source": [
    "#Categorical variables\n",
    "\n",
    "#These are variables that describe a 'characteristic' of a data unit, \n",
    "#and are selected from a small group of categories. The categorical variables can \n",
    "#have the type \"object\" or \"int64\". A good way to visualize categorical variables is by using boxplots.\n",
    "\n",
    "#Let's look at the relationship between \"body-style\" and \"price\".\n",
    "\n",
    "sns.boxplot(x=\"body-style\", y=\"price\", data=df)"
   ]
  },
  {
   "cell_type": "code",
   "execution_count": null,
   "metadata": {},
   "outputs": [],
   "source": [
    "#We see that the distributions of price between the different body-style categories have a significant overlap,\n",
    "#and so body-style would not be a good predictor of price. Let's examine engine \"engine-location\" and \"price\":\n",
    "\n",
    "sns.boxplot(x=\"engine-location\", y=\"price\", data=df)"
   ]
  },
  {
   "cell_type": "code",
   "execution_count": null,
   "metadata": {},
   "outputs": [],
   "source": [
    "#Here we see that the distribution of price between these two engine-location categories,\n",
    "#front and rear, are distinct enough to take engine-location as a potential good predictor of price.\n",
    "\n",
    "# Let's examine \"drive-wheels\" and \"price\"\n",
    "\n",
    "sns.boxplot(x=\"drive-wheels\", y=\"price\", data=df)"
   ]
  },
  {
   "cell_type": "code",
   "execution_count": null,
   "metadata": {},
   "outputs": [],
   "source": [
    "#Here we see that the distribution of price between the different drive-wheels categories differs; \n",
    "#as such drive-wheels could potentially be a predictor of price."
   ]
  },
  {
   "cell_type": "code",
   "execution_count": null,
   "metadata": {},
   "outputs": [],
   "source": [
    "#Descriptive Statistical Analysis\n",
    "\n",
    "#Let's first take a look at the variables by utilizing a description method.\n",
    "\n",
    "#The describe function automatically computes basic statistics for all continuous variables. \n",
    "#Any NaN values are automatically skipped in these statistics.\n",
    "\n",
    "#This will show:\n",
    "\n",
    "   #the count of that variable\n",
    "   #the mean\n",
    "   #the standard deviation (std)\n",
    "   #the minimum value\n",
    "   #the IQR (Interquartile Range: 25%, 50% and 75%)\n",
    "   #the maximum value\n",
    "\n",
    "# We can apply the method \"describe\" as follows:\n",
    "\n",
    "df.describe()"
   ]
  },
  {
   "cell_type": "code",
   "execution_count": null,
   "metadata": {},
   "outputs": [],
   "source": [
    "#The default setting of \"describe\" skips variables of type object.\n",
    "#We can apply the method \"describe\" on the variables of type 'object' as follows:\n",
    "\n",
    "df.describe(include=['object'])"
   ]
  },
  {
   "cell_type": "code",
   "execution_count": null,
   "metadata": {},
   "outputs": [],
   "source": [
    "#Value Counts\n",
    "\n",
    "#Value-counts is a good way of understanding how many units of each characteristic/variable we have. \n",
    "#We can apply the \"value_counts\" method on the column 'drive-wheels'.\n",
    "#Don’t forget the method \"value_counts\" only works on Pandas series, not Pandas Dataframes. \n",
    "#As a result, we only include one bracket \"df['drive-wheels']\" not two brackets \"df[['drive-wheels']]\".\n",
    "\n",
    "df['drive-wheels'].value_counts()"
   ]
  },
  {
   "cell_type": "code",
   "execution_count": null,
   "metadata": {},
   "outputs": [],
   "source": [
    "#We can convert the series to a Dataframe as follows:\n",
    "\n",
    "df['drive-wheels'].value_counts().to_frame()"
   ]
  },
  {
   "cell_type": "code",
   "execution_count": null,
   "metadata": {},
   "outputs": [],
   "source": [
    "#Let's repeat the above steps but save the results to the dataframe \"drive_wheels_counts\" and rename the column 'drive-wheels' to 'value_counts'.\n",
    "\n",
    "drive_wheels_counts = df['drive-wheels'].value_counts().to_frame()\n",
    "drive_wheels_counts.rename(columns={'drive-wheels': 'value_counts'}, inplace=True)\n",
    "drive_wheels_counts"
   ]
  },
  {
   "cell_type": "code",
   "execution_count": null,
   "metadata": {},
   "outputs": [],
   "source": [
    "#Now let's rename the index to 'drive-wheels'\n",
    "\n",
    "drive_wheels_counts.index.name = 'drive-wheels'\n",
    "drive_wheels_counts"
   ]
  },
  {
   "cell_type": "code",
   "execution_count": null,
   "metadata": {},
   "outputs": [],
   "source": [
    "#We can repeat the above process for the variable 'engine-location'.\n",
    "\n",
    "# engine-location as variable\n",
    "engine_loc_counts = df['engine-location'].value_counts().to_frame()\n",
    "engine_loc_counts.rename(columns={'engine-location': 'value_counts'}, inplace=True)\n",
    "engine_loc_counts.index.name = 'engine-location'\n",
    "engine_loc_counts.head(10)"
   ]
  },
  {
   "cell_type": "code",
   "execution_count": null,
   "metadata": {},
   "outputs": [],
   "source": [
    "#Examining the value counts of the engine location would not be a good predictor variable for the price. \n",
    "#This is because we only have three cars with a rear engine and 198 with an engine in the front, this result is skewed.\n",
    "#Thus, we are not able to draw any conclusions about the engine location."
   ]
  },
  {
   "cell_type": "code",
   "execution_count": null,
   "metadata": {},
   "outputs": [],
   "source": [
    "#Basics Of Grouping\n",
    "\n",
    "#The \"groupby\" method groups data by different categories. \n",
    "#The data is grouped based on one or several variables and analysis is performed on the individual groups.\n",
    "\n",
    "#For example, let's group by the variable \"drive-wheels\". \n",
    "#We see that there are 3 different categories of drive wheels.\n",
    "\n",
    "df['drive-wheels'].unique()"
   ]
  },
  {
   "cell_type": "code",
   "execution_count": null,
   "metadata": {},
   "outputs": [],
   "source": [
    "#If we want to know, on average, which type of drive wheel is most valuable, we can group \"drive-wheels\" and then average them.\n",
    "\n",
    "#We can select the columns 'drive-wheels', 'body-style' and 'price', then assign it to the variable \"df_group_one\".\n",
    "\n",
    "df_group_one = df[['drive-wheels','body-style','price']]"
   ]
  },
  {
   "cell_type": "code",
   "execution_count": null,
   "metadata": {},
   "outputs": [],
   "source": [
    "#We can then calculate the average price for each of the different categories of data.\n",
    "\n",
    "# grouping results\n",
    "df_group_one = df_group_one.groupby(['drive-wheels'],as_index=False).mean()\n",
    "df_group_one"
   ]
  },
  {
   "cell_type": "code",
   "execution_count": null,
   "metadata": {},
   "outputs": [],
   "source": [
    "#From our data, it seems rear-wheel drive vehicles are, on average, the most expensive, while 4-wheel and front-wheel are approximately the same in price.\n",
    "\n",
    "#You can also group with multiple variables. For example, let's group by both 'drive-wheels' and 'body-style'. This groups the dataframe by the unique combinations \n",
    "#'drive-wheels' and 'body-style'. We can store the results in the variable 'grouped_test1'.\n",
    "\n",
    "# grouping results\n",
    "df_gptest = df[['drive-wheels','body-style','price']]\n",
    "grouped_test1 = df_gptest.groupby(['drive-wheels','body-style'],as_index=False).mean()\n",
    "grouped_test1"
   ]
  },
  {
   "cell_type": "code",
   "execution_count": null,
   "metadata": {},
   "outputs": [],
   "source": [
    "#This grouped data is much easier to visualize when it is made into a pivot table. \n",
    "#A pivot table is like an Excel spreadsheet, with one variable along the column and another along the row. \n",
    "#We can convert the dataframe to a pivot table using the method \"pivot \" to create a pivot table from the groups.\n",
    "\n",
    "#In this case, we will leave the drive-wheel variable as the rows of the table, \n",
    "#and pivot body-style to become the columns of the table:\n",
    "\n",
    "grouped_pivot = grouped_test1.pivot(index='drive-wheels',columns='body-style')\n",
    "grouped_pivot"
   ]
  },
  {
   "cell_type": "code",
   "execution_count": 1,
   "metadata": {},
   "outputs": [],
   "source": [
    "#Often, we won't have data for some of the pivot cells. We can fill these missing cells with the value 0,\n",
    "#but any other value could potentially be used as well. \n",
    "#It should be mentioned that missing data is quite a complex subject and is an entire course on its own.\n",
    "\n",
    "grouped_pivot = grouped_pivot.fillna(0) #fill missing values with 0\n",
    "grouped_pivot"
   ]
  },
  {
   "cell_type": "code",
   "execution_count": null,
   "metadata": {},
   "outputs": [],
   "source": [
    "#Question 4:\n",
    "\n",
    "#Use the \"groupby\" function to find the average \"price\" of each car based on \"body-style\" ? \n",
    "\n",
    "# Write your code below and press Shift+Enter to execute\n",
    "df_group_two = df[['body-style','price']]\n",
    "df_group_two = df_group_two.groupby(['body-style'],as_index=False).mean()\n",
    "df_group_two"
   ]
  },
  {
   "cell_type": "code",
   "execution_count": null,
   "metadata": {},
   "outputs": [],
   "source": [
    "import matplotlib.pyplot as plt\n",
    "%matplotlib inline "
   ]
  },
  {
   "cell_type": "code",
   "execution_count": null,
   "metadata": {},
   "outputs": [],
   "source": [
    "#Variables: Drive Wheels and Body Style vs Price\n",
    "\n",
    "#Let's use a heat map to visualize the relationship between Body Style vs Price.\n",
    "\n",
    "#use the grouped results\n",
    "plt.pcolor(grouped_pivot, cmap='RdBu')\n",
    "plt.colorbar()\n",
    "plt.show()"
   ]
  },
  {
   "cell_type": "code",
   "execution_count": null,
   "metadata": {},
   "outputs": [],
   "source": [
    "#The heatmap plots the target variable (price) proportional to colour with respect to the variables \n",
    "#'drive-wheel' and 'body-style' in the vertical and horizontal axis respectively.\n",
    "#This allows us to visualize how the price is related to 'drive-wheel' and 'body-style'.\n",
    "\n",
    "#The default labels convey no useful information to us. Let's change that:\n",
    "\n",
    "fig, ax = plt.subplots()\n",
    "im = ax.pcolor(grouped_pivot, cmap='RdBu')\n",
    "\n",
    "#label names\n",
    "row_labels = grouped_pivot.columns.levels[1]\n",
    "col_labels = grouped_pivot.index\n",
    "\n",
    "#move ticks and labels to the center\n",
    "ax.set_xticks(np.arange(grouped_pivot.shape[1]) + 0.5, minor=False)\n",
    "ax.set_yticks(np.arange(grouped_pivot.shape[0]) + 0.5, minor=False)\n",
    "\n",
    "#insert labels\n",
    "ax.set_xticklabels(row_labels, minor=False)\n",
    "ax.set_yticklabels(col_labels, minor=False)\n",
    "\n",
    "#rotate label if too long\n",
    "plt.xticks(rotation=90)\n",
    "\n",
    "fig.colorbar(im)\n",
    "plt.show()"
   ]
  },
  {
   "cell_type": "code",
   "execution_count": null,
   "metadata": {},
   "outputs": [],
   "source": [
    "#Visualization is very important in data science, and Python visualization packages provide great freedom. We will go more in-depth in a separate Python Visualizations course.\n",
    "\n",
    "#The main question we want to answer in this module, is \"What are the main characteristics which have the most impact on the car price?\".\n",
    "\n",
    "#To get a better measure of the important characteristics, we look at the correlation of these variables with the car price, in other words: how is the car price dependent on this variable?"
   ]
  },
  {
   "cell_type": "code",
   "execution_count": null,
   "metadata": {},
   "outputs": [],
   "source": [
    "#Correlation and Causation\n",
    "\n",
    "#Correlation: a measure of the extent of interdependence between variables.\n",
    "\n",
    "#Causation: the relationship between cause and effect between two variables.\n",
    "\n",
    "#It is important to know the difference between these two and that correlation does not imply causation. \n",
    "#Determining correlation is much simpler  the determining causation as causation may require independent experimentation.\n",
    "\n",
    "#Pearson Correlation\n",
    "#The Pearson Correlation measures the linear dependence between two variables X and Y.\n",
    "#The resulting coefficient is a value between -1 and 1 inclusive, where:\n",
    "\n",
    "    #Total positive linear correlation.\n",
    "    #No linear correlation, the two variables most likely do not affect each other.\n",
    "    #Total negative linear correlation.\n",
    "\n",
    "#Pearson Correlation is the default method of the function \"corr\".  Like before we can calculate the Pearson Correlation of the of the 'int64' or 'float64'  variables.\n",
    "\n",
    "df.corr()"
   ]
  },
  {
   "cell_type": "code",
   "execution_count": null,
   "metadata": {},
   "outputs": [],
   "source": [
    "# sometimes we would like to know the significant of the correlation estimate.\n",
    "\n",
    "\n",
    "\n",
    "\n",
    "#P-value: \n",
    "#What is this P-value? The P-value is the probability value that the correlation between these two variables is statistically significant. \n",
    "#Normally, we choose a significance level of 0.05, \n",
    "#which means that we are 95% confident that the correlation between the variables is significant.\n",
    "\n",
    "#By convention, when the\n",
    "\n",
    "    #p-value is < 0.001: we say there is strong evidence that the correlation is significant.\n",
    "    #the p-value is < 0.05: there is moderate evidence that the correlation is significant.\n",
    "    #the p-value is < 0.1: there is weak evidence that the correlation is significant.\n",
    "    #the p-value is > 0.1: there is no evidence that the correlation is significant.\n",
    "\n",
    "# We can obtain this information using  \"stats\" module in the \"scipy\"  library.\n",
    "\n",
    "from scipy import stats"
   ]
  },
  {
   "cell_type": "code",
   "execution_count": null,
   "metadata": {},
   "outputs": [],
   "source": [
    "#Wheel-Base vs Price\n",
    "\n",
    "#Let's calculate the  Pearson Correlation Coefficient and P-value of 'wheel-base' and 'price'.\n",
    "\n",
    "pearson_coef, p_value = stats.pearsonr(df['wheel-base'], df['price'])\n",
    "print(\"The Pearson Correlation Coefficient is\", pearson_coef, \" with a P-value of P =\", p_value)"
   ]
  },
  {
   "cell_type": "code",
   "execution_count": null,
   "metadata": {},
   "outputs": [],
   "source": [
    "#Conclusion:\n",
    "#Since the p-value is < 0.001, the correlation between wheel-base and price is statistically significant,\n",
    "#although the linear relationship isn't extremely strong (~0.585)"
   ]
  },
  {
   "cell_type": "code",
   "execution_count": null,
   "metadata": {},
   "outputs": [],
   "source": [
    "#Horsepower VS Price\n",
    "\n",
    "# Let's calculate the #Pearson Correlation Coefficient and P-value of 'horsepower' and 'price'.\n",
    "\n",
    "pearson_coef, p_value = stats.pearsonr(df['horsepower'], df['price'])\n",
    "print(\"The Pearson Correlation Coefficient is\", pearson_coef, \" with a P-value of P = \", p_value)  "
   ]
  },
  {
   "cell_type": "code",
   "execution_count": 2,
   "metadata": {},
   "outputs": [],
   "source": [
    "#Conclusion:\n",
    "\n",
    "#Since the p-value is < 0.001, the correlation between horsepower and price is statistically significant,\n",
    "#and the linear relationship is quite strong (~0.809, close to 1)"
   ]
  },
  {
   "cell_type": "code",
   "execution_count": null,
   "metadata": {},
   "outputs": [],
   "source": [
    "#Length VS Prics\n",
    "\n",
    "#Let's calculate the  Pearson Correlation Coefficient and P-value of 'length' and 'price'.\n",
    "\n",
    "pearson_coef, p_value = stats.pearsonr(df['length'], df['price'])\n",
    "print(\"The Pearson Correlation Coefficient is\", pearson_coef, \" with a P-value of P = \", p_value)  "
   ]
  },
  {
   "cell_type": "code",
   "execution_count": null,
   "metadata": {},
   "outputs": [],
   "source": [
    "#Conclusion:\n",
    "#Since the p-value is $<$ 0.001, the correlation between length and price is statistically significant,\n",
    "#and the linear relationship is moderately strong (~0.691)."
   ]
  },
  {
   "cell_type": "code",
   "execution_count": null,
   "metadata": {},
   "outputs": [],
   "source": [
    "#Curb-Weight VS Price\n",
    "\n",
    "#Let's calculate the Pearson Correlation Coefficient and P-value of 'curb-weight' and 'price':\n",
    "\n",
    "pearson_coef, p_value = stats.pearsonr(df['curb-weight'], df['price'])\n",
    "print( \"The Pearson Correlation Coefficient is\", pearson_coef, \" with a P-value of P = \", p_value)"
   ]
  },
  {
   "cell_type": "code",
   "execution_count": null,
   "metadata": {},
   "outputs": [],
   "source": [
    "#Conclusion:\n",
    "#Since the p-value is < 0.001, the correlation between curb-weight and price is statistically significant,\n",
    "#and the linear relationship is quite strong (~0.834)."
   ]
  },
  {
   "cell_type": "code",
   "execution_count": null,
   "metadata": {},
   "outputs": [],
   "source": [
    "#Engine-size vs Price\n",
    "\n",
    "#Let's calculate the Pearson Correlation Coefficient and P-value of 'engine-size' and 'price':\n",
    "\n",
    "pearson_coef, p_value = stats.pearsonr(df['engine-size'], df['price'])\n",
    "print(\"The Pearson Correlation Coefficient is\", pearson_coef, \" with a P-value of P =\", p_value) "
   ]
  },
  {
   "cell_type": "code",
   "execution_count": null,
   "metadata": {},
   "outputs": [],
   "source": [
    "#Conclusion:\n",
    "\n",
    "#Since the p-value is < 0.001, the correlation between engine-size and price is statistically significant, \n",
    "#and the linear relationship is very strong (~0.872)."
   ]
  },
  {
   "cell_type": "code",
   "execution_count": null,
   "metadata": {},
   "outputs": [],
   "source": [
    "#Bore VS Price\n",
    "\n",
    "#Let's calculate the  Pearson Correlation Coefficient and P-value of 'bore' and 'price':\n",
    "    \n",
    "pearson_coef, p_value = stats.pearsonr(df['bore'], df['price'])\n",
    "print(\"The Pearson Correlation Coefficient is\", pearson_coef, \" with a P-value of P =  \", p_value ) "
   ]
  },
  {
   "cell_type": "code",
   "execution_count": null,
   "metadata": {},
   "outputs": [],
   "source": [
    "#Conclusion:\n",
    "#Since the p-value is < 0.001, the correlation between bore and price is statistically significant, but the linear relationship is only moderate (~0.521)."
   ]
  },
  {
   "cell_type": "code",
   "execution_count": null,
   "metadata": {},
   "outputs": [],
   "source": [
    "#City-MPG VS Price\n",
    "\n",
    "pearson_coef, p_value = stats.pearsonr(df['city-mpg'], df['price'])\n",
    "print(\"The Pearson Correlation Coefficient is\", pearson_coef, \" with a P-value of P = \", p_value)  "
   ]
  },
  {
   "cell_type": "code",
   "execution_count": null,
   "metadata": {},
   "outputs": [],
   "source": [
    "#Highway-MPG VS Price\n",
    "\n",
    "pearson_coef, p_value = stats.pearsonr(df['highway-mpg'], df['price'])\n",
    "print( \"The Pearson Correlation Coefficient is\", pearson_coef, \" with a P-value of P = \", p_value ) "
   ]
  },
  {
   "cell_type": "code",
   "execution_count": null,
   "metadata": {},
   "outputs": [],
   "source": [
    "#ANOVA\n",
    "\n",
    "#<h3>ANOVA: Analysis of Variance</h3>\n",
    "#The Analysis of Variance  (ANOVA) is a statistical method used to test whether there are significant differences between the means of two or more groups. \n",
    "#ANOVA returns two parameters:\n",
    "\n",
    "#F-test score: ANOVA assumes the means of all groups are the same, calculates how much the actual means deviate from the assumption, and reports it as the F-test score. \n",
    "#A larger score means there is a larger difference between the means.\n",
    "\n",
    "#P-value:  P-value tells how statistically significant is our calculated score value.\n",
    "\n",
    "#If our price variable is strongly correlated with the variable we are analyzing, expect ANOVA to return a sizeable F-test score and a small p-value.\n",
    "\n",
    "\n",
    "#Drive Wheels\n",
    "\n",
    "#Since ANOVA analyzes the difference between different groups of the same variable, the groupby function will come in handy. \n",
    "#Because the ANOVA algorithm averages the data automatically, we do not need to take the average before hand.\n",
    "\n",
    "#Let's see if different types 'drive-wheels' impact  'price', we group the data.\n",
    "\n",
    "# Let's see if different types 'drive-wheels' impact  'price', we group the data.\n",
    "\n",
    "grouped_test2=df_gptest[['drive-wheels', 'price']].groupby(['drive-wheels'])\n",
    "grouped_test2.head(2)"
   ]
  },
  {
   "cell_type": "code",
   "execution_count": null,
   "metadata": {},
   "outputs": [],
   "source": [
    "df_gptest"
   ]
  },
  {
   "cell_type": "code",
   "execution_count": null,
   "metadata": {},
   "outputs": [],
   "source": [
    "# We can obtain the values of the method group using the method \"get_group\".  \n",
    "\n",
    "grouped_test2.get_group('4wd')['price']"
   ]
  },
  {
   "cell_type": "code",
   "execution_count": null,
   "metadata": {},
   "outputs": [],
   "source": [
    "#we can use the function 'f_oneway' in the module 'stats'  to obtain the F-test score and P-value.\n",
    "\n",
    "# ANOVA\n",
    "f_val, p_val = stats.f_oneway(grouped_test2.get_group('fwd')['price'], grouped_test2.get_group('rwd')['price'], grouped_test2.get_group('4wd')['price'])  \n",
    " \n",
    "print( \"ANOVA results: F=\", f_val, \", P =\", p_val)"
   ]
  },
  {
   "cell_type": "code",
   "execution_count": null,
   "metadata": {},
   "outputs": [],
   "source": [
    "#This is a great result, with a large F test score showing a strong correlation and a P value of almost 0 implying almost certain statistical significance.\n",
    "#But does this mean all three tested groups are all this highly correlated? \n",
    "\n",
    "\n",
    "#Separately: FWD and RWD\n",
    "\n",
    "f_val, p_val = stats.f_oneway(grouped_test2.get_group('fwd')['price'], grouped_test2.get_group('rwd')['price'])  \n",
    " \n",
    "print( \"ANOVA results: F=\", f_val, \", P =\", p_val )\n",
    "\n",
    "# Let's examine the other groups \n",
    "\n",
    "#4WD and RWD\n",
    "\n",
    "f_val, p_val = stats.f_oneway(grouped_test2.get_group('4wd')['price'], grouped_test2.get_group('rwd')['price'])  \n",
    "   \n",
    "print( \"ANOVA results: F=\", f_val, \", P =\", p_val)   \n",
    "\n",
    "#4WD and FWD\n",
    "\n",
    "f_val, p_val = stats.f_oneway(grouped_test2.get_group('4wd')['price'], grouped_test2.get_group('fwd')['price'])  \n",
    " \n",
    "print(\"ANOVA results: F=\", f_val, \", P =\", p_val)   "
   ]
  },
  {
   "cell_type": "code",
   "execution_count": null,
   "metadata": {},
   "outputs": [],
   "source": [
    "#Conclusion: Important Variables\n",
    "\n",
    "\n",
    "#We now have a better idea of what our data looks like and which variables are important to take into account when predicting the car price.\n",
    "#We have narrowed it down to the following variables:\n",
    "\n",
    "#Continuous numerical variables:\n",
    "\n",
    "    #Length\n",
    "    #Width\n",
    "    #Curb-weight\n",
    "    #Engine-size\n",
    "    #Horsepower\n",
    "    #City-mpg\n",
    "    #Highway-mpg\n",
    "    #Wheel-base\n",
    "    #Bore\n",
    "\n",
    "    \n",
    "#Categorical variables:\n",
    "\n",
    "    #Drive-wheels\n",
    "\n",
    "#As we now move into building machine learning models to automate our analysis, \n",
    "#feeding the model with variables that meaningfully affect our target variable will improve our model's prediction performance."
   ]
  }
 ],
 "metadata": {
  "kernelspec": {
   "display_name": "Python 3",
   "language": "python",
   "name": "python3"
  },
  "language_info": {
   "codemirror_mode": {
    "name": "ipython",
    "version": 3
   },
   "file_extension": ".py",
   "mimetype": "text/x-python",
   "name": "python",
   "nbconvert_exporter": "python",
   "pygments_lexer": "ipython3",
   "version": "3.7.3"
  }
 },
 "nbformat": 4,
 "nbformat_minor": 2
}
